{
 "cells": [
  {
   "cell_type": "code",
   "execution_count": 1,
   "id": "9aa80e3d-ebd7-4219-9a07-0f1562983b1c",
   "metadata": {},
   "outputs": [],
   "source": [
    "import pandas as pd\n",
    "from sklearn.feature_extraction.text import TfidfVectorizer\n",
    "from sklearn.preprocessing import LabelEncoder\n",
    "from torch.utils.data import Dataset, DataLoader\n",
    "import torch\n",
    "import torch.nn as nn\n",
    "from torchinfo import summary\n",
    "import matplotlib.pyplot as plt\n",
    "import seaborn as sns\n",
    "import torch.optim as optim"
   ]
  },
  {
   "cell_type": "markdown",
   "id": "eb88f2e8-c667-43a7-9150-0569ab3fb9b3",
   "metadata": {},
   "source": [
    "## Data Loading and Exploration\n",
    "\n",
    "We begin by loading the training and test datasets. Each entry consists of a text sample and its associated emotion label. We then inspect the shape of the datasets, check for missing values, and examine the distribution of labels and text lengths."
   ]
  },
  {
   "cell_type": "code",
   "execution_count": 2,
   "id": "99e61d85-791d-43d6-b50f-a2fa9bc81c92",
   "metadata": {},
   "outputs": [],
   "source": [
    "def load_dataset(filepath):\n",
    "    return pd.read_csv(filepath, sep=';', header=None, names=['text', 'label'])\n",
    "\n",
    "train_df = load_dataset('NLP_exam_emotions_dataset/train.txt')\n",
    "test_df = load_dataset('NLP_exam_emotions_dataset/test.txt')"
   ]
  },
  {
   "cell_type": "code",
   "execution_count": 3,
   "id": "d71aa428-b166-4bd3-bfe1-e3c5dae98e8a",
   "metadata": {},
   "outputs": [
    {
     "name": "stdout",
     "output_type": "stream",
     "text": [
      "Train shape: (16000, 2)\n",
      "Test shape: (2000, 2)\n"
     ]
    }
   ],
   "source": [
    "print(\"Train shape:\", train_df.shape)\n",
    "print(\"Test shape:\", test_df.shape)"
   ]
  },
  {
   "cell_type": "code",
   "execution_count": 4,
   "id": "3a358a2c-8005-4143-81a4-933c31fa5e70",
   "metadata": {},
   "outputs": [
    {
     "name": "stdout",
     "output_type": "stream",
     "text": [
      "\n",
      "Sample train data:\n"
     ]
    },
    {
     "data": {
      "text/html": [
       "<div>\n",
       "<style scoped>\n",
       "    .dataframe tbody tr th:only-of-type {\n",
       "        vertical-align: middle;\n",
       "    }\n",
       "\n",
       "    .dataframe tbody tr th {\n",
       "        vertical-align: top;\n",
       "    }\n",
       "\n",
       "    .dataframe thead th {\n",
       "        text-align: right;\n",
       "    }\n",
       "</style>\n",
       "<table border=\"1\" class=\"dataframe\">\n",
       "  <thead>\n",
       "    <tr style=\"text-align: right;\">\n",
       "      <th></th>\n",
       "      <th>text</th>\n",
       "      <th>label</th>\n",
       "    </tr>\n",
       "  </thead>\n",
       "  <tbody>\n",
       "    <tr>\n",
       "      <th>0</th>\n",
       "      <td>i didnt feel humiliated</td>\n",
       "      <td>sadness</td>\n",
       "    </tr>\n",
       "    <tr>\n",
       "      <th>1</th>\n",
       "      <td>i can go from feeling so hopeless to so damned...</td>\n",
       "      <td>sadness</td>\n",
       "    </tr>\n",
       "    <tr>\n",
       "      <th>2</th>\n",
       "      <td>im grabbing a minute to post i feel greedy wrong</td>\n",
       "      <td>anger</td>\n",
       "    </tr>\n",
       "    <tr>\n",
       "      <th>3</th>\n",
       "      <td>i am ever feeling nostalgic about the fireplac...</td>\n",
       "      <td>love</td>\n",
       "    </tr>\n",
       "    <tr>\n",
       "      <th>4</th>\n",
       "      <td>i am feeling grouchy</td>\n",
       "      <td>anger</td>\n",
       "    </tr>\n",
       "  </tbody>\n",
       "</table>\n",
       "</div>"
      ],
      "text/plain": [
       "                                                text    label\n",
       "0                            i didnt feel humiliated  sadness\n",
       "1  i can go from feeling so hopeless to so damned...  sadness\n",
       "2   im grabbing a minute to post i feel greedy wrong    anger\n",
       "3  i am ever feeling nostalgic about the fireplac...     love\n",
       "4                               i am feeling grouchy    anger"
      ]
     },
     "metadata": {},
     "output_type": "display_data"
    }
   ],
   "source": [
    "print(\"\\nSample train data:\")\n",
    "display(train_df.head())"
   ]
  },
  {
   "cell_type": "code",
   "execution_count": 5,
   "id": "f9aadbb3-3306-4fe2-9dad-ec9637a2a22a",
   "metadata": {},
   "outputs": [
    {
     "name": "stdout",
     "output_type": "stream",
     "text": [
      "\n",
      "Missing values in train set:\n",
      "text     0\n",
      "label    0\n",
      "dtype: int64\n"
     ]
    }
   ],
   "source": [
    "print(\"\\nMissing values in train set:\")\n",
    "print(train_df.isnull().sum())"
   ]
  },
  {
   "cell_type": "code",
   "execution_count": 6,
   "id": "9bbaccf5-ec66-44b8-a589-47a5a438ae92",
   "metadata": {},
   "outputs": [
    {
     "name": "stdout",
     "output_type": "stream",
     "text": [
      "\n",
      "Label distribution in train set:\n",
      "label\n",
      "joy         5362\n",
      "sadness     4666\n",
      "anger       2159\n",
      "fear        1937\n",
      "love        1304\n",
      "surprise     572\n",
      "Name: count, dtype: int64\n"
     ]
    }
   ],
   "source": [
    "print(\"\\nLabel distribution in train set:\")\n",
    "print(train_df['label'].value_counts())"
   ]
  },
  {
   "cell_type": "code",
   "execution_count": 7,
   "id": "97a3fb01-1a9c-4227-ae65-90efa87a962c",
   "metadata": {},
   "outputs": [
    {
     "name": "stdout",
     "output_type": "stream",
     "text": [
      "\n",
      "Text length statistics:\n",
      "count    16000.000000\n",
      "mean        96.845812\n",
      "std         55.904953\n",
      "min          7.000000\n",
      "25%         53.000000\n",
      "50%         86.000000\n",
      "75%        129.000000\n",
      "max        300.000000\n",
      "Name: text_length, dtype: float64\n"
     ]
    }
   ],
   "source": [
    "train_df['text_length'] = train_df['text'].apply(len)\n",
    "print(\"\\nText length statistics:\")\n",
    "print(train_df['text_length'].describe())"
   ]
  },
  {
   "cell_type": "code",
   "execution_count": 8,
   "id": "01936ebb-db8c-44d6-93a8-b350cf044c16",
   "metadata": {},
   "outputs": [
    {
     "data": {
      "image/png": "[encoded data removed]",
      "text/plain": [
       "<Figure size 800x400 with 1 Axes>"
      ]
     },
     "metadata": {},
     "output_type": "display_data"
    }
   ],
   "source": [
    "plt.figure(figsize=(8,4))\n",
    "sns.countplot(data=train_df, x='label', order=train_df['label'].value_counts().index)\n",
    "plt.title('Label Distribution in Train Set')\n",
    "plt.show()"
   ]
  },
  {
   "cell_type": "markdown",
   "id": "b51f30cd-af67-4c13-be55-4fa05d0d47d5",
   "metadata": {},
   "source": [
    "## Data Preprocessing\n",
    "\n",
    "We encode the emotion labels into integers and vectorize the text data using TF-IDF with a maximum of 5000 features. This transforms the text into a numerical format suitable for input to a neural network."
   ]
  },
  {
   "cell_type": "code",
   "execution_count": 9,
   "id": "aaf6f36b-8433-4de2-a2e9-f9815685565e",
   "metadata": {},
   "outputs": [],
   "source": [
    "train_df = pd.read_csv('NLP_exam_emotions_dataset/train.txt', sep=';', header=None, names=['text', 'label'])\n",
    "test_df = pd.read_csv('NLP_exam_emotions_dataset/test.txt', sep=';', header=None, names=['text', 'label'])\n",
    "\n",
    "le = LabelEncoder()\n",
    "train_df['label_enc'] = le.fit_transform(train_df['label'])\n",
    "test_df['label_enc'] = le.transform(test_df['label'])"
   ]
  },
  {
   "cell_type": "code",
   "execution_count": 10,
   "id": "6d818300-fd22-42b2-9356-1b3c82dc3a0e",
   "metadata": {},
   "outputs": [
    {
     "data": {
      "text/html": [
       "<div>\n",
       "<style scoped>\n",
       "    .dataframe tbody tr th:only-of-type {\n",
       "        vertical-align: middle;\n",
       "    }\n",
       "\n",
       "    .dataframe tbody tr th {\n",
       "        vertical-align: top;\n",
       "    }\n",
       "\n",
       "    .dataframe thead th {\n",
       "        text-align: right;\n",
       "    }\n",
       "</style>\n",
       "<table border=\"1\" class=\"dataframe\">\n",
       "  <thead>\n",
       "    <tr style=\"text-align: right;\">\n",
       "      <th></th>\n",
       "      <th>text</th>\n",
       "      <th>label</th>\n",
       "      <th>label_enc</th>\n",
       "    </tr>\n",
       "  </thead>\n",
       "  <tbody>\n",
       "    <tr>\n",
       "      <th>0</th>\n",
       "      <td>i didnt feel humiliated</td>\n",
       "      <td>sadness</td>\n",
       "      <td>4</td>\n",
       "    </tr>\n",
       "    <tr>\n",
       "      <th>1</th>\n",
       "      <td>i can go from feeling so hopeless to so damned...</td>\n",
       "      <td>sadness</td>\n",
       "      <td>4</td>\n",
       "    </tr>\n",
       "    <tr>\n",
       "      <th>2</th>\n",
       "      <td>im grabbing a minute to post i feel greedy wrong</td>\n",
       "      <td>anger</td>\n",
       "      <td>0</td>\n",
       "    </tr>\n",
       "    <tr>\n",
       "      <th>3</th>\n",
       "      <td>i am ever feeling nostalgic about the fireplac...</td>\n",
       "      <td>love</td>\n",
       "      <td>3</td>\n",
       "    </tr>\n",
       "    <tr>\n",
       "      <th>4</th>\n",
       "      <td>i am feeling grouchy</td>\n",
       "      <td>anger</td>\n",
       "      <td>0</td>\n",
       "    </tr>\n",
       "    <tr>\n",
       "      <th>...</th>\n",
       "      <td>...</td>\n",
       "      <td>...</td>\n",
       "      <td>...</td>\n",
       "    </tr>\n",
       "    <tr>\n",
       "      <th>15995</th>\n",
       "      <td>i just had a very brief time in the beanbag an...</td>\n",
       "      <td>sadness</td>\n",
       "      <td>4</td>\n",
       "    </tr>\n",
       "    <tr>\n",
       "      <th>15996</th>\n",
       "      <td>i am now turning and i feel pathetic that i am...</td>\n",
       "      <td>sadness</td>\n",
       "      <td>4</td>\n",
       "    </tr>\n",
       "    <tr>\n",
       "      <th>15997</th>\n",
       "      <td>i feel strong and good overall</td>\n",
       "      <td>joy</td>\n",
       "      <td>2</td>\n",
       "    </tr>\n",
       "    <tr>\n",
       "      <th>15998</th>\n",
       "      <td>i feel like this was such a rude comment and i...</td>\n",
       "      <td>anger</td>\n",
       "      <td>0</td>\n",
       "    </tr>\n",
       "    <tr>\n",
       "      <th>15999</th>\n",
       "      <td>i know a lot but i feel so stupid because i ca...</td>\n",
       "      <td>sadness</td>\n",
       "      <td>4</td>\n",
       "    </tr>\n",
       "  </tbody>\n",
       "</table>\n",
       "<p>16000 rows × 3 columns</p>\n",
       "</div>"
      ],
      "text/plain": [
       "                                                    text    label  label_enc\n",
       "0                                i didnt feel humiliated  sadness          4\n",
       "1      i can go from feeling so hopeless to so damned...  sadness          4\n",
       "2       im grabbing a minute to post i feel greedy wrong    anger          0\n",
       "3      i am ever feeling nostalgic about the fireplac...     love          3\n",
       "4                                   i am feeling grouchy    anger          0\n",
       "...                                                  ...      ...        ...\n",
       "15995  i just had a very brief time in the beanbag an...  sadness          4\n",
       "15996  i am now turning and i feel pathetic that i am...  sadness          4\n",
       "15997                     i feel strong and good overall      joy          2\n",
       "15998  i feel like this was such a rude comment and i...    anger          0\n",
       "15999  i know a lot but i feel so stupid because i ca...  sadness          4\n",
       "\n",
       "[16000 rows x 3 columns]"
      ]
     },
     "execution_count": 10,
     "metadata": {},
     "output_type": "execute_result"
    }
   ],
   "source": [
    "train_df"
   ]
  },
  {
   "cell_type": "code",
   "execution_count": 11,
   "id": "c83d6cca-2859-4a8f-838e-588b0d5138f7",
   "metadata": {},
   "outputs": [
    {
     "data": {
      "text/html": [
       "<div>\n",
       "<style scoped>\n",
       "    .dataframe tbody tr th:only-of-type {\n",
       "        vertical-align: middle;\n",
       "    }\n",
       "\n",
       "    .dataframe tbody tr th {\n",
       "        vertical-align: top;\n",
       "    }\n",
       "\n",
       "    .dataframe thead th {\n",
       "        text-align: right;\n",
       "    }\n",
       "</style>\n",
       "<table border=\"1\" class=\"dataframe\">\n",
       "  <thead>\n",
       "    <tr style=\"text-align: right;\">\n",
       "      <th></th>\n",
       "      <th>text</th>\n",
       "      <th>label</th>\n",
       "      <th>label_enc</th>\n",
       "    </tr>\n",
       "  </thead>\n",
       "  <tbody>\n",
       "    <tr>\n",
       "      <th>0</th>\n",
       "      <td>im feeling rather rotten so im not very ambiti...</td>\n",
       "      <td>sadness</td>\n",
       "      <td>4</td>\n",
       "    </tr>\n",
       "    <tr>\n",
       "      <th>1</th>\n",
       "      <td>im updating my blog because i feel shitty</td>\n",
       "      <td>sadness</td>\n",
       "      <td>4</td>\n",
       "    </tr>\n",
       "    <tr>\n",
       "      <th>2</th>\n",
       "      <td>i never make her separate from me because i do...</td>\n",
       "      <td>sadness</td>\n",
       "      <td>4</td>\n",
       "    </tr>\n",
       "    <tr>\n",
       "      <th>3</th>\n",
       "      <td>i left with my bouquet of red and yellow tulip...</td>\n",
       "      <td>joy</td>\n",
       "      <td>2</td>\n",
       "    </tr>\n",
       "    <tr>\n",
       "      <th>4</th>\n",
       "      <td>i was feeling a little vain when i did this one</td>\n",
       "      <td>sadness</td>\n",
       "      <td>4</td>\n",
       "    </tr>\n",
       "    <tr>\n",
       "      <th>...</th>\n",
       "      <td>...</td>\n",
       "      <td>...</td>\n",
       "      <td>...</td>\n",
       "    </tr>\n",
       "    <tr>\n",
       "      <th>1995</th>\n",
       "      <td>i just keep feeling like someone is being unki...</td>\n",
       "      <td>anger</td>\n",
       "      <td>0</td>\n",
       "    </tr>\n",
       "    <tr>\n",
       "      <th>1996</th>\n",
       "      <td>im feeling a little cranky negative after this...</td>\n",
       "      <td>anger</td>\n",
       "      <td>0</td>\n",
       "    </tr>\n",
       "    <tr>\n",
       "      <th>1997</th>\n",
       "      <td>i feel that i am useful to my people and that ...</td>\n",
       "      <td>joy</td>\n",
       "      <td>2</td>\n",
       "    </tr>\n",
       "    <tr>\n",
       "      <th>1998</th>\n",
       "      <td>im feeling more comfortable with derby i feel ...</td>\n",
       "      <td>joy</td>\n",
       "      <td>2</td>\n",
       "    </tr>\n",
       "    <tr>\n",
       "      <th>1999</th>\n",
       "      <td>i feel all weird when i have to meet w people ...</td>\n",
       "      <td>fear</td>\n",
       "      <td>1</td>\n",
       "    </tr>\n",
       "  </tbody>\n",
       "</table>\n",
       "<p>2000 rows × 3 columns</p>\n",
       "</div>"
      ],
      "text/plain": [
       "                                                   text    label  label_enc\n",
       "0     im feeling rather rotten so im not very ambiti...  sadness          4\n",
       "1             im updating my blog because i feel shitty  sadness          4\n",
       "2     i never make her separate from me because i do...  sadness          4\n",
       "3     i left with my bouquet of red and yellow tulip...      joy          2\n",
       "4       i was feeling a little vain when i did this one  sadness          4\n",
       "...                                                 ...      ...        ...\n",
       "1995  i just keep feeling like someone is being unki...    anger          0\n",
       "1996  im feeling a little cranky negative after this...    anger          0\n",
       "1997  i feel that i am useful to my people and that ...      joy          2\n",
       "1998  im feeling more comfortable with derby i feel ...      joy          2\n",
       "1999  i feel all weird when i have to meet w people ...     fear          1\n",
       "\n",
       "[2000 rows x 3 columns]"
      ]
     },
     "execution_count": 11,
     "metadata": {},
     "output_type": "execute_result"
    }
   ],
   "source": [
    "test_df"
   ]
  },
  {
   "cell_type": "code",
   "execution_count": 32,
   "id": "2bba0a77-28b0-4dbb-a0b1-7b5ca44edea6",
   "metadata": {},
   "outputs": [],
   "source": [
    "vectorizer = TfidfVectorizer(max_features=5000)\n",
    "X_train = vectorizer.fit_transform(train_df['text']).toarray()\n",
    "X_test = vectorizer.transform(test_df['text']).toarray()\n",
    "y_train = train_df['label_enc'].values\n",
    "y_test = test_df['label_enc'].values"
   ]
  },
  {
   "cell_type": "markdown",
   "id": "443c03ee-8331-45d6-84ba-7077a1839836",
   "metadata": {},
   "source": [
    "## Dataset and DataLoader\n",
    "\n",
    "We define a custom PyTorch Dataset to wrap our features and labels, and use DataLoader to efficiently batch and shuffle the data for training and evaluation."
   ]
  },
  {
   "cell_type": "code",
   "execution_count": 33,
   "id": "82cc6962-69e6-49f4-af78-287ffbd31f21",
   "metadata": {},
   "outputs": [],
   "source": [
    "class TextDataset(Dataset):\n",
    "    def __init__(self, X, y):\n",
    "        self.X = torch.tensor(X, dtype=torch.float32)\n",
    "        self.y = torch.tensor(y, dtype=torch.long)\n",
    "    def __len__(self):\n",
    "        return len(self.y)\n",
    "    def __getitem__(self, idx):\n",
    "        return self.X[idx], self.y[idx]\n",
    "\n",
    "train_dataset = TextDataset(X_train, y_train)\n",
    "test_dataset = TextDataset(X_test, y_test)"
   ]
  },
  {
   "cell_type": "code",
   "execution_count": 13,
   "id": "bc728d07-0d8f-4cc2-b919-e4399d68669f",
   "metadata": {},
   "outputs": [],
   "source": [
    "train_loader = DataLoader(train_dataset, batch_size=32, shuffle=True)\n",
    "test_loader = DataLoader(test_dataset, batch_size=32, shuffle=False)"
   ]
  },
  {
   "cell_type": "code",
   "execution_count": 14,
   "id": "e4236cd7-1a5d-4f18-8e84-82ff02597d6f",
   "metadata": {},
   "outputs": [
    {
     "name": "stdout",
     "output_type": "stream",
     "text": [
      "True\n",
      "NVIDIA GeForce RTX 4060 Laptop GPU\n"
     ]
    }
   ],
   "source": [
    "print(torch.cuda.is_available())  # Should print True\n",
    "print(torch.cuda.get_device_name(0))  # Should print your GPU name"
   ]
  },
  {
   "cell_type": "markdown",
   "id": "3fc218f3-b712-423f-a9db-f86a13bb39bf",
   "metadata": {},
   "source": [
    "## Model Definition\n",
    "\n",
    "We define a Fully Connected Neural Network (FCNN) with two hidden layers and ReLU activations. The model takes the TF-IDF features as input and outputs class scores for each emotion."
   ]
  },
  {
   "cell_type": "code",
   "execution_count": 34,
   "id": "ad046922-91f1-4a14-8286-31c8f21be7fe",
   "metadata": {},
   "outputs": [],
   "source": [
    "class FCNN(nn.Module):\n",
    "    def __init__(self, input_dim, num_classes):\n",
    "        super().__init__()\n",
    "        self.fc1 = nn.Linear(input_dim, 256)\n",
    "        self.relu1 = nn.ReLU()\n",
    "        self.fc2 = nn.Linear(256, 128)\n",
    "        self.relu2 = nn.ReLU()\n",
    "        self.fc3 = nn.Linear(128, num_classes)\n",
    "    def forward(self, x):\n",
    "        x = self.relu1(self.fc1(x))\n",
    "        x = self.relu2(self.fc2(x))\n",
    "        x = self.fc3(x)\n",
    "        return x"
   ]
  },
  {
   "cell_type": "markdown",
   "id": "eea40ebd-cfed-4716-87aa-418bd4fc551e",
   "metadata": {},
   "source": [
    "## Training Setup\n",
    "\n",
    "We set up the training process by specifying the device (CPU or GPU), loss function (cross-entropy), optimizer (Adam), and number of epochs."
   ]
  },
  {
   "cell_type": "code",
   "execution_count": 16,
   "id": "0d4a82e7-61c6-4a47-9db0-b47621125192",
   "metadata": {},
   "outputs": [],
   "source": [
    "device = torch.device('cuda' if torch.cuda.is_available() else 'cpu')\n",
    "model = FCNN(X_train.shape[1], len(le.classes_)).to(device)\n",
    "criterion = nn.CrossEntropyLoss()\n",
    "optimizer = optim.Adam(model.parameters(), lr=1e-3)\n",
    "num_epochs = 20"
   ]
  },
  {
   "cell_type": "markdown",
   "id": "34729179-d7c8-43ff-8c40-5efde096acc4",
   "metadata": {},
   "source": [
    "## Model Summary\n",
    "\n",
    "We display a summary of the model architecture, including the number of parameters and the shape of each layer."
   ]
  },
  {
   "cell_type": "code",
   "execution_count": 17,
   "id": "5e8eb4d1-a3a1-48fb-8b33-54a399d5b647",
   "metadata": {},
   "outputs": [
    {
     "data": {
      "text/plain": [
       "==========================================================================================\n",
       "Layer (type:depth-idx)                   Output Shape              Param #\n",
       "==========================================================================================\n",
       "FCNN                                     [32, 6]                   --\n",
       "├─Linear: 1-1                            [32, 256]                 1,280,256\n",
       "├─ReLU: 1-2                              [32, 256]                 --\n",
       "├─Linear: 1-3                            [32, 128]                 32,896\n",
       "├─ReLU: 1-4                              [32, 128]                 --\n",
       "├─Linear: 1-5                            [32, 6]                   774\n",
       "==========================================================================================\n",
       "Total params: 1,313,926\n",
       "Trainable params: 1,313,926\n",
       "Non-trainable params: 0\n",
       "Total mult-adds (M): 42.05\n",
       "==========================================================================================\n",
       "Input size (MB): 0.64\n",
       "Forward/backward pass size (MB): 0.10\n",
       "Params size (MB): 5.26\n",
       "Estimated Total Size (MB): 6.00\n",
       "=========================================================================================="
      ]
     },
     "execution_count": 17,
     "metadata": {},
     "output_type": "execute_result"
    }
   ],
   "source": [
    "summary(model, input_size=(32, X_train.shape[1]))"
   ]
  },
  {
   "cell_type": "code",
   "execution_count": 23,
   "id": "21be06de-ade6-4cc0-890a-292158854c43",
   "metadata": {},
   "outputs": [],
   "source": [
    "training_args = {\n",
    "    'num_epochs': 40,\n",
    "    'batch_size': 256,\n",
    "    'learning_rate': 3e-5,\n",
    "    'device': torch.device('cuda' if torch.cuda.is_available() else 'cpu')\n",
    "}"
   ]
  },
  {
   "cell_type": "markdown",
   "id": "1f9882c4-1f76-4adc-892c-d61196661a06",
   "metadata": {},
   "source": [
    "## Training Function\n",
    "\n",
    "We implement a training loop that tracks loss and accuracy for both training and validation sets. The best model (based on validation accuracy) is saved for later evaluation."
   ]
  },
  {
   "cell_type": "code",
   "execution_count": 24,
   "id": "3e221026-ef58-4684-8132-ca9d9688e685",
   "metadata": {},
   "outputs": [],
   "source": [
    "def train_model(model, train_loader, val_loader, criterion, optimizer, num_epochs, device):\n",
    "    train_losses = []\n",
    "    train_accuracies = []\n",
    "    val_losses = []\n",
    "    val_accuracies = []\n",
    "\n",
    "    best_val_acc = 0.0\n",
    "    best_model_state = None\n",
    "\n",
    "    for epoch in range(num_epochs):\n",
    "        # Training\n",
    "        model.train()\n",
    "        running_loss = 0.0\n",
    "        correct = 0\n",
    "        total = 0\n",
    "        for X_batch, y_batch in train_loader:\n",
    "            X_batch, y_batch = X_batch.to(device), y_batch.to(device)\n",
    "            optimizer.zero_grad()\n",
    "            outputs = model(X_batch)\n",
    "            loss = criterion(outputs, y_batch)\n",
    "            loss.backward()\n",
    "            optimizer.step()\n",
    "            running_loss += loss.item() * X_batch.size(0)\n",
    "            _, predicted = torch.max(outputs, 1)\n",
    "            total += y_batch.size(0)\n",
    "            correct += (predicted == y_batch).sum().item()\n",
    "        epoch_train_loss = running_loss / total\n",
    "        epoch_train_acc = correct / total\n",
    "        train_losses.append(epoch_train_loss)\n",
    "        train_accuracies.append(epoch_train_acc)\n",
    "\n",
    "        # Validation\n",
    "        model.eval()\n",
    "        val_running_loss = 0.0\n",
    "        val_correct = 0\n",
    "        val_total = 0\n",
    "        with torch.no_grad():\n",
    "            for X_batch, y_batch in val_loader:\n",
    "                X_batch, y_batch = X_batch.to(device), y_batch.to(device)\n",
    "                outputs = model(X_batch)\n",
    "                loss = criterion(outputs, y_batch)\n",
    "                val_running_loss += loss.item() * X_batch.size(0)\n",
    "                _, predicted = torch.max(outputs, 1)\n",
    "                val_total += y_batch.size(0)\n",
    "                val_correct += (predicted == y_batch).sum().item()\n",
    "        epoch_val_loss = val_running_loss / val_total\n",
    "        epoch_val_acc = val_correct / val_total\n",
    "        val_losses.append(epoch_val_loss)\n",
    "        val_accuracies.append(epoch_val_acc)\n",
    "\n",
    "        # Save best model\n",
    "        if epoch_val_acc > best_val_acc:\n",
    "            best_val_acc = epoch_val_acc\n",
    "            best_model_state = model.state_dict()\n",
    "\n",
    "        print(f\"Epoch {epoch+1}/{num_epochs} | \"\n",
    "              f\"Train Loss: {epoch_train_loss:.4f}, Train Acc: {epoch_train_acc:.4f} | \"\n",
    "              f\"Val Loss: {epoch_val_loss:.4f}, Val Acc: {epoch_val_acc:.4f}\")\n",
    "\n",
    "    # After training, load and save the best model\n",
    "    if best_model_state is not None:\n",
    "        model.load_state_dict(best_model_state)\n",
    "        torch.save(model.state_dict(), 'best_fcnn_model.pth')\n",
    "        print(f\"Best model saved with validation accuracy: {best_val_acc:.4f}\")\n",
    "\n",
    "    return train_losses, train_accuracies, val_losses, val_accuracies"
   ]
  },
  {
   "cell_type": "code",
   "execution_count": 25,
   "id": "c0d3dbbc-86f5-47e6-a0a0-23b299c81656",
   "metadata": {},
   "outputs": [],
   "source": [
    "def plot_metrics(train_losses, train_accuracies, val_losses, val_accuracies):\n",
    "    epochs = range(1, len(train_losses) + 1)\n",
    "    plt.figure(figsize=(12,5))\n",
    "    plt.subplot(1,2,1)\n",
    "    plt.plot(epochs, train_losses, label='Train Loss')\n",
    "    plt.plot(epochs, val_losses, label='Validation Loss')\n",
    "    plt.xlabel('Epoch')\n",
    "    plt.ylabel('Loss')\n",
    "    plt.legend()\n",
    "    plt.title('Loss over Epochs')\n",
    "\n",
    "    plt.subplot(1,2,2)\n",
    "    plt.plot(epochs, train_accuracies, label='Train Accuracy')\n",
    "    plt.plot(epochs, val_accuracies, label='Validation Accuracy')\n",
    "    plt.xlabel('Epoch')\n",
    "    plt.ylabel('Accuracy')\n",
    "    plt.legend()\n",
    "    plt.title('Accuracy over Epochs')\n",
    "\n",
    "    plt.tight_layout()\n",
    "    plt.show()"
   ]
  },
  {
   "cell_type": "code",
   "execution_count": 26,
   "id": "de1ecfac-c09e-4715-b897-c8ff14313f15",
   "metadata": {},
   "outputs": [
    {
     "name": "stdout",
     "output_type": "stream",
     "text": [
      "Epoch 1/40 | Train Loss: 1.7741, Train Acc: 0.2484 | Val Loss: 1.6924, Val Acc: 0.2905\n",
      "Epoch 2/40 | Train Loss: 1.6019, Train Acc: 0.3355 | Val Loss: 1.5384, Val Acc: 0.3475\n",
      "Epoch 3/40 | Train Loss: 1.5335, Train Acc: 0.3352 | Val Loss: 1.5047, Val Acc: 0.3490\n",
      "Epoch 4/40 | Train Loss: 1.4908, Train Acc: 0.3678 | Val Loss: 1.4585, Val Acc: 0.4040\n",
      "Epoch 5/40 | Train Loss: 1.4228, Train Acc: 0.4839 | Val Loss: 1.3813, Val Acc: 0.5220\n",
      "Epoch 6/40 | Train Loss: 1.3135, Train Acc: 0.5659 | Val Loss: 1.2648, Val Acc: 0.5840\n",
      "Epoch 7/40 | Train Loss: 1.1674, Train Acc: 0.6202 | Val Loss: 1.1264, Val Acc: 0.6340\n",
      "Epoch 8/40 | Train Loss: 1.0173, Train Acc: 0.6829 | Val Loss: 0.9990, Val Acc: 0.6830\n",
      "Epoch 9/40 | Train Loss: 0.8885, Train Acc: 0.7433 | Val Loss: 0.8948, Val Acc: 0.7335\n",
      "Epoch 10/40 | Train Loss: 0.7841, Train Acc: 0.7877 | Val Loss: 0.8115, Val Acc: 0.7690\n",
      "Epoch 11/40 | Train Loss: 0.6990, Train Acc: 0.8174 | Val Loss: 0.7442, Val Acc: 0.7970\n",
      "Epoch 12/40 | Train Loss: 0.6264, Train Acc: 0.8392 | Val Loss: 0.6866, Val Acc: 0.8160\n",
      "Epoch 13/40 | Train Loss: 0.5616, Train Acc: 0.8634 | Val Loss: 0.6357, Val Acc: 0.8250\n",
      "Epoch 14/40 | Train Loss: 0.5021, Train Acc: 0.8819 | Val Loss: 0.5896, Val Acc: 0.8425\n",
      "Epoch 15/40 | Train Loss: 0.4475, Train Acc: 0.8979 | Val Loss: 0.5492, Val Acc: 0.8460\n",
      "Epoch 16/40 | Train Loss: 0.3988, Train Acc: 0.9079 | Val Loss: 0.5135, Val Acc: 0.8485\n",
      "Epoch 17/40 | Train Loss: 0.3563, Train Acc: 0.9157 | Val Loss: 0.4855, Val Acc: 0.8515\n",
      "Epoch 18/40 | Train Loss: 0.3205, Train Acc: 0.9227 | Val Loss: 0.4625, Val Acc: 0.8530\n",
      "Epoch 19/40 | Train Loss: 0.2903, Train Acc: 0.9270 | Val Loss: 0.4430, Val Acc: 0.8545\n",
      "Epoch 20/40 | Train Loss: 0.2650, Train Acc: 0.9307 | Val Loss: 0.4292, Val Acc: 0.8560\n",
      "Epoch 21/40 | Train Loss: 0.2435, Train Acc: 0.9336 | Val Loss: 0.4180, Val Acc: 0.8540\n",
      "Epoch 22/40 | Train Loss: 0.2252, Train Acc: 0.9362 | Val Loss: 0.4098, Val Acc: 0.8545\n",
      "Epoch 23/40 | Train Loss: 0.2096, Train Acc: 0.9390 | Val Loss: 0.4047, Val Acc: 0.8525\n",
      "Epoch 24/40 | Train Loss: 0.1959, Train Acc: 0.9408 | Val Loss: 0.3989, Val Acc: 0.8550\n",
      "Epoch 25/40 | Train Loss: 0.1838, Train Acc: 0.9427 | Val Loss: 0.3960, Val Acc: 0.8525\n",
      "Epoch 26/40 | Train Loss: 0.1729, Train Acc: 0.9441 | Val Loss: 0.3940, Val Acc: 0.8510\n",
      "Epoch 27/40 | Train Loss: 0.1630, Train Acc: 0.9455 | Val Loss: 0.3930, Val Acc: 0.8515\n",
      "Epoch 28/40 | Train Loss: 0.1539, Train Acc: 0.9471 | Val Loss: 0.3922, Val Acc: 0.8505\n",
      "Epoch 29/40 | Train Loss: 0.1454, Train Acc: 0.9499 | Val Loss: 0.3915, Val Acc: 0.8495\n",
      "Epoch 30/40 | Train Loss: 0.1376, Train Acc: 0.9556 | Val Loss: 0.3913, Val Acc: 0.8525\n",
      "Epoch 31/40 | Train Loss: 0.1301, Train Acc: 0.9617 | Val Loss: 0.3916, Val Acc: 0.8515\n",
      "Epoch 32/40 | Train Loss: 0.1230, Train Acc: 0.9666 | Val Loss: 0.3925, Val Acc: 0.8515\n",
      "Epoch 33/40 | Train Loss: 0.1162, Train Acc: 0.9709 | Val Loss: 0.3942, Val Acc: 0.8520\n",
      "Epoch 34/40 | Train Loss: 0.1099, Train Acc: 0.9741 | Val Loss: 0.3955, Val Acc: 0.8560\n",
      "Epoch 35/40 | Train Loss: 0.1038, Train Acc: 0.9774 | Val Loss: 0.3959, Val Acc: 0.8565\n",
      "Epoch 36/40 | Train Loss: 0.0981, Train Acc: 0.9801 | Val Loss: 0.3985, Val Acc: 0.8550\n",
      "Epoch 37/40 | Train Loss: 0.0927, Train Acc: 0.9816 | Val Loss: 0.3999, Val Acc: 0.8560\n",
      "Epoch 38/40 | Train Loss: 0.0877, Train Acc: 0.9836 | Val Loss: 0.4023, Val Acc: 0.8510\n",
      "Epoch 39/40 | Train Loss: 0.0829, Train Acc: 0.9846 | Val Loss: 0.4053, Val Acc: 0.8520\n",
      "Epoch 40/40 | Train Loss: 0.0785, Train Acc: 0.9860 | Val Loss: 0.4065, Val Acc: 0.8520\n",
      "Best model saved with validation accuracy: 0.8565\n"
     ]
    }
   ],
   "source": [
    "model = FCNN(X_train.shape[1], len(le.classes_)).to(training_args['device'])\n",
    "optimizer = optim.Adam(model.parameters(), lr=training_args['learning_rate'], weight_decay=1e-4)\n",
    "criterion = nn.CrossEntropyLoss()\n",
    "\n",
    "train_losses, train_accuracies, val_losses, val_accuracies = train_model(\n",
    "    model, train_loader, test_loader, criterion, optimizer, training_args['num_epochs'], training_args['device']\n",
    ")"
   ]
  },
  {
   "cell_type": "markdown",
   "id": "87a2d4ad-6123-4a01-abc8-b5e4f78c58ba",
   "metadata": {},
   "source": [
    "## Results and Evaluation\n",
    "\n",
    "After training, we plot the loss and accuracy curves for both training and validation sets to visualize the learning process and check for overfitting or underfitting."
   ]
  },
  {
   "cell_type": "code",
   "execution_count": 27,
   "id": "66b4a2d4-b83c-4ac5-90ea-ffe6bbd71f54",
   "metadata": {},
   "outputs": [
    {
     "data": {
      "image/png": "[encoded data removed]",
      "text/plain": [
       "<Figure size 1200x500 with 2 Axes>"
      ]
     },
     "metadata": {},
     "output_type": "display_data"
    }
   ],
   "source": [
    "plot_metrics(train_losses, train_accuracies, val_losses, val_accuracies)"
   ]
  },
  {
   "cell_type": "markdown",
   "id": "f123fdc4-544e-496b-8285-8bc258d1c21c",
   "metadata": {},
   "source": [
    "## Training and Validation Curves\n",
    "\n",
    "The plots above display the loss and accuracy for both the training and validation sets over 100 epochs.\n",
    "\n",
    "- **Loss over Epochs (Left Plot):**\n",
    "    - Both training and validation loss decrease rapidly at the start, indicating effective learning.\n",
    "    - Training loss continues to decrease and remains lower than validation loss, which is expected.\n",
    "    - Validation loss plateaus after a certain point, suggesting the model has reached its optimal generalization.\n",
    "\n",
    "- **Accuracy over Epochs (Right Plot):**\n",
    "    - Both training and validation accuracy increase quickly during the initial epochs.\n",
    "    - Training accuracy continues to improve and approaches 1.0, while validation accuracy plateaus at a high value.\n",
    "    - The gap between training and validation accuracy is reasonable and stable, indicating no severe overfitting.\n",
    "\n",
    "**Conclusion:**  \n",
    "These curves suggest that the model is learning well and generalizing effectively to the validation set. There is no sign of underfitting or severe overfitting. Further improvements could be explored by tuning hyperparameters or experimenting with more advanced models.\n"
   ]
  },
  {
   "cell_type": "code",
   "execution_count": 28,
   "id": "308636a6-120c-4d42-9f07-f9b763b83412",
   "metadata": {},
   "outputs": [
    {
     "name": "stderr",
     "output_type": "stream",
     "text": [
      "C:\\Users\\Acer\\AppData\\Local\\Temp\\ipykernel_31808\\1432663221.py:1: FutureWarning: You are using `torch.load` with `weights_only=False` (the current default value), which uses the default pickle module implicitly. It is possible to construct malicious pickle data which will execute arbitrary code during unpickling (See https://github.com/pytorch/pytorch/blob/main/SECURITY.md#untrusted-models for more details). In a future release, the default value for `weights_only` will be flipped to `True`. This limits the functions that could be executed during unpickling. Arbitrary objects will no longer be allowed to be loaded via this mode unless they are explicitly allowlisted by the user via `torch.serialization.add_safe_globals`. We recommend you start setting `weights_only=True` for any use case where you don't have full control of the loaded file. Please open an issue on GitHub for any issues related to this experimental feature.\n",
      "  model.load_state_dict(torch.load('best_fcnn_model.pth'))\n"
     ]
    },
    {
     "name": "stdout",
     "output_type": "stream",
     "text": [
      "Best Model Test Accuracy: 0.8520\n"
     ]
    }
   ],
   "source": [
    "model.load_state_dict(torch.load('best_fcnn_model.pth'))\n",
    "model.eval()\n",
    "\n",
    "correct = 0\n",
    "total = 0\n",
    "with torch.no_grad():\n",
    "    for X_batch, y_batch in test_loader:\n",
    "        X_batch, y_batch = X_batch.to(training_args['device']), y_batch.to(training_args['device'])\n",
    "        outputs = model(X_batch)\n",
    "        _, predicted = torch.max(outputs, 1)\n",
    "        total += y_batch.size(0)\n",
    "        correct += (predicted == y_batch).sum().item()\n",
    "print(f\"Best Model Test Accuracy: {correct/total:.4f}\")"
   ]
  },
  {
   "cell_type": "code",
   "execution_count": 29,
   "id": "03a6d8b6-cb31-4ad5-a87f-e5f692acf2b5",
   "metadata": {},
   "outputs": [
    {
     "name": "stdout",
     "output_type": "stream",
     "text": [
      "              precision    recall  f1-score   support\n",
      "\n",
      "       anger       0.85      0.85      0.85       275\n",
      "        fear       0.81      0.82      0.81       224\n",
      "         joy       0.89      0.89      0.89       695\n",
      "        love       0.67      0.70      0.69       159\n",
      "     sadness       0.89      0.89      0.89       581\n",
      "    surprise       0.71      0.52      0.60        66\n",
      "\n",
      "    accuracy                           0.85      2000\n",
      "   macro avg       0.80      0.78      0.79      2000\n",
      "weighted avg       0.85      0.85      0.85      2000\n",
      "\n"
     ]
    }
   ],
   "source": [
    "from sklearn.metrics import classification_report\n",
    "\n",
    "all_preds = []\n",
    "all_labels = []\n",
    "model.eval()\n",
    "with torch.no_grad():\n",
    "    for X_batch, y_batch in test_loader:\n",
    "        X_batch = X_batch.to(training_args['device'])\n",
    "        outputs = model(X_batch)\n",
    "        _, predicted = torch.max(outputs, 1)\n",
    "        all_preds.extend(predicted.cpu().numpy())\n",
    "        all_labels.extend(y_batch.numpy())\n",
    "\n",
    "print(classification_report(all_labels, all_preds, target_names=le.classes_))"
   ]
  },
  {
   "cell_type": "markdown",
   "id": "ff51f512-3db4-4a8a-80c0-34abf40bcb8e",
   "metadata": {},
   "source": [
    "## Confusion Matrix\n",
    "\n",
    "We compute and display the confusion matrix to analyze the model's performance on each emotion class, identifying which classes are most often confused."
   ]
  },
  {
   "cell_type": "code",
   "execution_count": 30,
   "id": "b39da7f4-4116-4f87-8e9d-ff190119176b",
   "metadata": {},
   "outputs": [
    {
     "data": {
      "image/png": "[encoded data removed]",
      "text/plain": [
       "<Figure size 800x800 with 2 Axes>"
      ]
     },
     "metadata": {},
     "output_type": "display_data"
    }
   ],
   "source": [
    "import numpy as np\n",
    "import matplotlib.pyplot as plt\n",
    "from sklearn.metrics import confusion_matrix, ConfusionMatrixDisplay\n",
    "\n",
    "# Get all predictions and true labels\n",
    "all_preds = []\n",
    "all_labels = []\n",
    "model.eval()\n",
    "with torch.no_grad():\n",
    "    for X_batch, y_batch in test_loader:\n",
    "        X_batch = X_batch.to(training_args['device'])\n",
    "        outputs = model(X_batch)\n",
    "        _, predicted = torch.max(outputs, 1)\n",
    "        all_preds.extend(predicted.cpu().numpy())\n",
    "        all_labels.extend(y_batch.numpy())\n",
    "\n",
    "# Compute confusion matrix\n",
    "cm = confusion_matrix(all_labels, all_preds)\n",
    "disp = ConfusionMatrixDisplay(confusion_matrix=cm, display_labels=le.classes_)\n",
    "\n",
    "# Plot confusion matrix\n",
    "fig, ax = plt.subplots(figsize=(8, 8))\n",
    "disp.plot(ax=ax, cmap='Blues', xticks_rotation=45)\n",
    "plt.title(\"Confusion Matrix\")\n",
    "plt.show()"
   ]
  },
  {
   "cell_type": "markdown",
   "id": "11cc68b9-e098-40f2-8ab9-952ef16e3c8c",
   "metadata": {},
   "source": [
    "## Confusion Matrix Analysis\n",
    "\n",
    "The confusion matrix above visualizes the performance of the model on the test set, showing the number of correct and incorrect predictions for each emotion class.\n",
    "\n",
    "- **Diagonal values** represent correct predictions for each class (e.g., 'joy' predicted as 'joy'). Higher values on the diagonal indicate better performance for those classes.\n",
    "- **Off-diagonal values** indicate misclassifications (e.g., 'love' predicted as 'joy').\n",
    "\n",
    "### Key Observations\n",
    "- The model performs very well on the 'joy' and 'sadness' classes, as indicated by the high numbers on the diagonal for these labels.\n",
    "- The 'love' class is often confused with 'joy', which may be due to similarities in the text or class imbalance.\n",
    "- The 'surprise' class has the lowest number of samples and is often misclassified as 'fear' or 'joy'.\n",
    "- Some confusion exists between 'anger' and 'sadness', as well as between 'fear' and 'sadness'.\n",
    "\n",
    "### Suggestions for Improvement\n",
    "- **Class Imbalance:** Consider using class weights or data augmentation to help the model better distinguish minority classes like 'surprise' and 'love'.\n",
    "- **Feature Engineering:** More advanced text features (such as word embeddings or transformer-based models) may help the model better separate similar emotions.\n",
    "- **Model Tuning:** Experiment with different architectures or regularization techniques to further reduce misclassifications.\n",
    "\n",
    "**Conclusion:**  \n",
    "The confusion matrix provides valuable insight into which emotions are most easily confused by the model, guiding future improvements in data processing and model design."
   ]
  },
  {
   "cell_type": "code",
   "execution_count": null,
   "id": "8279ba04-ca8f-40c2-acd1-e78c24664cd5",
   "metadata": {},
   "outputs": [],
   "source": []
  }
 ],
 "metadata": {
  "kernelspec": {
   "display_name": "Python 3 (ipykernel)",
   "language": "python",
   "name": "python3"
  },
  "language_info": {
   "codemirror_mode": {
    "name": "ipython",
    "version": 3
   },
   "file_extension": ".py",
   "mimetype": "text/x-python",
   "name": "python",
   "nbconvert_exporter": "python",
   "pygments_lexer": "ipython3",
   "version": "3.10.18"
  }
 },
 "nbformat": 4,
 "nbformat_minor": 5
}
