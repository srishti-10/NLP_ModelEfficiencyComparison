{
  "nbformat": 4,
  "nbformat_minor": 0,
  "metadata": {
    "colab": {
      "provenance": [],
      "gpuType": "T4"
    },
    "kernelspec": {
      "name": "python3",
      "display_name": "Python 3"
    },
    "language_info": {
      "name": "python"
    },
    "accelerator": "GPU"
  },
  "cells": [
    {
      "cell_type": "code",
      "execution_count": 1,
      "metadata": {
        "colab": {
          "base_uri": "https://localhost:8080/"
        },
        "id": "Rz1xSR9lfglC",
        "outputId": "5f00a4bd-7b21-4f84-b480-2c4b49d716ec"
      },
      "outputs": [
        {
          "output_type": "stream",
          "name": "stdout",
          "text": [
            "\u001b[2K   \u001b[90m━━━━━━━━━━━━━━━━━━━━━━━━━━━━━━━━━━━━━━━━\u001b[0m \u001b[32m363.4/363.4 MB\u001b[0m \u001b[31m4.0 MB/s\u001b[0m eta \u001b[36m0:00:00\u001b[0m\n",
            "\u001b[2K   \u001b[90m━━━━━━━━━━━━━━━━━━━━━━━━━━━━━━━━━━━━━━━━\u001b[0m \u001b[32m13.8/13.8 MB\u001b[0m \u001b[31m38.4 MB/s\u001b[0m eta \u001b[36m0:00:00\u001b[0m\n",
            "\u001b[2K   \u001b[90m━━━━━━━━━━━━━━━━━━━━━━━━━━━━━━━━━━━━━━━━\u001b[0m \u001b[32m24.6/24.6 MB\u001b[0m \u001b[31m32.2 MB/s\u001b[0m eta \u001b[36m0:00:00\u001b[0m\n",
            "\u001b[2K   \u001b[90m━━━━━━━━━━━━━━━━━━━━━━━━━━━━━━━━━━━━━━━━\u001b[0m \u001b[32m883.7/883.7 kB\u001b[0m \u001b[31m31.0 MB/s\u001b[0m eta \u001b[36m0:00:00\u001b[0m\n",
            "\u001b[2K   \u001b[90m━━━━━━━━━━━━━━━━━━━━━━━━━━━━━━━━━━━━━━━━\u001b[0m \u001b[32m664.8/664.8 MB\u001b[0m \u001b[31m2.0 MB/s\u001b[0m eta \u001b[36m0:00:00\u001b[0m\n",
            "\u001b[2K   \u001b[90m━━━━━━━━━━━━━━━━━━━━━━━━━━━━━━━━━━━━━━━━\u001b[0m \u001b[32m211.5/211.5 MB\u001b[0m \u001b[31m7.0 MB/s\u001b[0m eta \u001b[36m0:00:00\u001b[0m\n",
            "\u001b[2K   \u001b[90m━━━━━━━━━━━━━━━━━━━━━━━━━━━━━━━━━━━━━━━━\u001b[0m \u001b[32m56.3/56.3 MB\u001b[0m \u001b[31m18.3 MB/s\u001b[0m eta \u001b[36m0:00:00\u001b[0m\n",
            "\u001b[2K   \u001b[90m━━━━━━━━━━━━━━━━━━━━━━━━━━━━━━━━━━━━━━━━\u001b[0m \u001b[32m127.9/127.9 MB\u001b[0m \u001b[31m6.5 MB/s\u001b[0m eta \u001b[36m0:00:00\u001b[0m\n",
            "\u001b[2K   \u001b[90m━━━━━━━━━━━━━━━━━━━━━━━━━━━━━━━━━━━━━━━━\u001b[0m \u001b[32m207.5/207.5 MB\u001b[0m \u001b[31m6.5 MB/s\u001b[0m eta \u001b[36m0:00:00\u001b[0m\n",
            "\u001b[2K   \u001b[90m━━━━━━━━━━━━━━━━━━━━━━━━━━━━━━━━━━━━━━━━\u001b[0m \u001b[32m21.1/21.1 MB\u001b[0m \u001b[31m44.4 MB/s\u001b[0m eta \u001b[36m0:00:00\u001b[0m\n",
            "\u001b[?25h"
          ]
        }
      ],
      "source": [
        "!pip install torch torchvision torchaudio scikit-learn joblib tensorflow transformers --quiet\n"
      ]
    },
    {
      "cell_type": "code",
      "source": [
        "import torch\n",
        "import joblib\n",
        "import numpy as np\n",
        "from sklearn.feature_extraction.text import TfidfVectorizer\n",
        "from sklearn.preprocessing import LabelEncoder\n",
        "from tensorflow.keras.models import load_model\n",
        "import pickle\n",
        "from transformers import AutoTokenizer, AutoModelForSequenceClassification\n",
        "import os\n",
        "import warnings\n",
        "warnings.filterwarnings('ignore')\n",
        "\n",
        "# Set device for PyTorch and Transformers\n",
        "device = torch.device('cuda' if torch.cuda.is_available() else 'cpu')\n",
        "print(f'Using device: {device}')\n"
      ],
      "metadata": {
        "colab": {
          "base_uri": "https://localhost:8080/"
        },
        "id": "_-baMrDwfpeu",
        "outputId": "321844a6-a15b-45b5-eb80-ab52a4b88f53"
      },
      "execution_count": 2,
      "outputs": [
        {
          "output_type": "stream",
          "name": "stdout",
          "text": [
            "Using device: cuda\n"
          ]
        }
      ]
    },
    {
      "cell_type": "code",
      "source": [
        "# Define CNN model architecture (must match training)\n",
        "import torch.nn as nn\n",
        "class FCNN(nn.Module):\n",
        "    def __init__(self, input_dim, num_classes):\n",
        "        super(FCNN, self).__init__()\n",
        "        self.fc1 = nn.Linear(input_dim, 256)\n",
        "        self.relu1 = nn.ReLU()\n",
        "        self.fc2 = nn.Linear(256, 128)\n",
        "        self.relu2 = nn.ReLU()\n",
        "        self.fc3 = nn.Linear(128, num_classes)\n",
        "    def forward(self, x):\n",
        "        x = self.fc1(x)\n",
        "        x = self.relu1(x)\n",
        "        x = self.fc2(x)\n",
        "        x = self.relu2(x)\n",
        "        x = self.fc3(x)\n",
        "        return x\n",
        "\n",
        "# Load vectorizer and label encoder\n",
        "cnn_vectorizer = joblib.load('cnn_vectorizer.joblib')\n",
        "cnn_label_encoder = joblib.load('cnn_label_encoder.joblib')\n",
        "\n",
        "# Infer input_dim and num_classes\n",
        "input_dim = cnn_vectorizer.transform(['sample']).shape[1]\n",
        "num_classes = len(cnn_label_encoder.classes_)\n",
        "\n",
        "# Load model\n",
        "cnn_model = FCNN(input_dim, num_classes)\n",
        "cnn_model.load_state_dict(torch.load('best_fcnn_model.pth', map_location=device))\n",
        "cnn_model.to(device)\n",
        "cnn_model.eval()\n"
      ],
      "metadata": {
        "colab": {
          "base_uri": "https://localhost:8080/",
          "height": 332
        },
        "id": "WmzGVMHMgYmv",
        "outputId": "db650952-b568-4351-8ff1-9bcfb6f43522"
      },
      "execution_count": 3,
      "outputs": [
        {
          "output_type": "error",
          "ename": "FileNotFoundError",
          "evalue": "[Errno 2] No such file or directory: 'cnn_vectorizer.joblib'",
          "traceback": [
            "\u001b[0;31m---------------------------------------------------------------------------\u001b[0m",
            "\u001b[0;31mFileNotFoundError\u001b[0m                         Traceback (most recent call last)",
            "\u001b[0;32m/tmp/ipython-input-3-2628308406.py\u001b[0m in \u001b[0;36m<cell line: 0>\u001b[0;34m()\u001b[0m\n\u001b[1;32m     18\u001b[0m \u001b[0;34m\u001b[0m\u001b[0m\n\u001b[1;32m     19\u001b[0m \u001b[0;31m# Load vectorizer and label encoder\u001b[0m\u001b[0;34m\u001b[0m\u001b[0;34m\u001b[0m\u001b[0m\n\u001b[0;32m---> 20\u001b[0;31m \u001b[0mcnn_vectorizer\u001b[0m \u001b[0;34m=\u001b[0m \u001b[0mjoblib\u001b[0m\u001b[0;34m.\u001b[0m\u001b[0mload\u001b[0m\u001b[0;34m(\u001b[0m\u001b[0;34m'cnn_vectorizer.joblib'\u001b[0m\u001b[0;34m)\u001b[0m\u001b[0;34m\u001b[0m\u001b[0;34m\u001b[0m\u001b[0m\n\u001b[0m\u001b[1;32m     21\u001b[0m \u001b[0mcnn_label_encoder\u001b[0m \u001b[0;34m=\u001b[0m \u001b[0mjoblib\u001b[0m\u001b[0;34m.\u001b[0m\u001b[0mload\u001b[0m\u001b[0;34m(\u001b[0m\u001b[0;34m'cnn_label_encoder.joblib'\u001b[0m\u001b[0;34m)\u001b[0m\u001b[0;34m\u001b[0m\u001b[0;34m\u001b[0m\u001b[0m\n\u001b[1;32m     22\u001b[0m \u001b[0;34m\u001b[0m\u001b[0m\n",
            "\u001b[0;32m/usr/local/lib/python3.11/dist-packages/joblib/numpy_pickle.py\u001b[0m in \u001b[0;36mload\u001b[0;34m(filename, mmap_mode, ensure_native_byte_order)\u001b[0m\n\u001b[1;32m    733\u001b[0m             \u001b[0mobj\u001b[0m \u001b[0;34m=\u001b[0m \u001b[0m_unpickle\u001b[0m\u001b[0;34m(\u001b[0m\u001b[0mfobj\u001b[0m\u001b[0;34m,\u001b[0m \u001b[0mensure_native_byte_order\u001b[0m\u001b[0;34m=\u001b[0m\u001b[0mensure_native_byte_order\u001b[0m\u001b[0;34m)\u001b[0m\u001b[0;34m\u001b[0m\u001b[0;34m\u001b[0m\u001b[0m\n\u001b[1;32m    734\u001b[0m     \u001b[0;32melse\u001b[0m\u001b[0;34m:\u001b[0m\u001b[0;34m\u001b[0m\u001b[0;34m\u001b[0m\u001b[0m\n\u001b[0;32m--> 735\u001b[0;31m         \u001b[0;32mwith\u001b[0m \u001b[0mopen\u001b[0m\u001b[0;34m(\u001b[0m\u001b[0mfilename\u001b[0m\u001b[0;34m,\u001b[0m \u001b[0;34m\"rb\"\u001b[0m\u001b[0;34m)\u001b[0m \u001b[0;32mas\u001b[0m \u001b[0mf\u001b[0m\u001b[0;34m:\u001b[0m\u001b[0;34m\u001b[0m\u001b[0;34m\u001b[0m\u001b[0m\n\u001b[0m\u001b[1;32m    736\u001b[0m             with _validate_fileobject_and_memmap(f, filename, mmap_mode) as (\n\u001b[1;32m    737\u001b[0m                 \u001b[0mfobj\u001b[0m\u001b[0;34m,\u001b[0m\u001b[0;34m\u001b[0m\u001b[0;34m\u001b[0m\u001b[0m\n",
            "\u001b[0;31mFileNotFoundError\u001b[0m: [Errno 2] No such file or directory: 'cnn_vectorizer.joblib'"
          ]
        }
      ]
    },
    {
      "cell_type": "code",
      "source": [
        "# Load tokenizer and label encoder\n",
        "with open('lstm_tokenizer.pkl', 'rb') as f:\n",
        "    lstm_tokenizer = pickle.load(f)\n",
        "with open('lstm_label_encoder.pkl', 'rb') as f:\n",
        "    lstm_label_encoder = pickle.load(f)\n",
        "\n",
        "# Load model\n",
        "lstm_model = load_model('best_lstm_model.h5')\n",
        "\n",
        "# Set max_len (should match training)\n",
        "max_len = 40  # Change if different in your training\n"
      ],
      "metadata": {
        "id": "L59B_tkHgq8o"
      },
      "execution_count": null,
      "outputs": []
    },
    {
      "cell_type": "code",
      "source": [
        "# Load label encoder\n",
        "with open('transformer_label_encoder.pkl', 'rb') as f:\n",
        "    transformer_label_encoder = pickle.load(f)\n",
        "\n",
        "# Load model and tokenizer\n",
        "transformer_model = AutoModelForSequenceClassification.from_pretrained('best_transformer_model')\n",
        "transformer_tokenizer = AutoTokenizer.from_pretrained('best_transformer_model')\n",
        "transformer_model.to(device)\n",
        "transformer_model.eval()\n"
      ],
      "metadata": {
        "id": "fs1yu7j2gt8o"
      },
      "execution_count": null,
      "outputs": []
    },
    {
      "cell_type": "code",
      "source": [
        "def predict_cnn(texts):\n",
        "    if isinstance(texts, str):\n",
        "        texts = [texts]\n",
        "    X = cnn_vectorizer.transform(texts).toarray()\n",
        "    X_tensor = torch.tensor(X, dtype=torch.float32).to(device)\n",
        "    with torch.no_grad():\n",
        "        outputs = cnn_model(X_tensor)\n",
        "        preds = torch.argmax(outputs, dim=1).cpu().numpy()\n",
        "    return cnn_label_encoder.inverse_transform(preds)\n",
        "\n",
        "def predict_lstm(texts):\n",
        "    if isinstance(texts, str):\n",
        "        texts = [texts]\n",
        "    sequences = lstm_tokenizer.texts_to_sequences(texts)\n",
        "    from tensorflow.keras.preprocessing.sequence import pad_sequences\n",
        "    X = pad_sequences(sequences, maxlen=max_len, padding='post')\n",
        "    preds = lstm_model.predict(X)\n",
        "    pred_labels = np.argmax(preds, axis=1)\n",
        "    return lstm_label_encoder.inverse_transform(pred_labels)\n",
        "\n",
        "def predict_transformer(texts):\n",
        "    if isinstance(texts, str):\n",
        "        texts = [texts]\n",
        "    tokens = transformer_tokenizer(texts, padding='max_length', truncation=True, max_length=64, return_tensors='pt')\n",
        "    tokens = {k: v.to(device) for k, v in tokens.items()}\n",
        "    with torch.no_grad():\n",
        "        outputs = transformer_model(**tokens)\n",
        "        preds = torch.argmax(outputs.logits, dim=1).cpu().numpy()\n",
        "    return transformer_label_encoder.inverse_transform(preds)\n"
      ],
      "metadata": {
        "id": "WD9rcoucgych"
      },
      "execution_count": null,
      "outputs": []
    },
    {
      "cell_type": "code",
      "source": [
        "def unified_inference(texts):\n",
        "    cnn_preds = predict_cnn(texts)\n",
        "    lstm_preds = predict_lstm(texts)\n",
        "    transformer_preds = predict_transformer(texts)\n",
        "    if isinstance(texts, str):\n",
        "        texts = [texts]\n",
        "    print(f'{\"Text\":<50} | {\"CNN\":<10} | {\"LSTM\":<10} | {\"Transformer\":<12}')\n",
        "    print('-'*90)\n",
        "    for t, c, l, tr in zip(texts, cnn_preds, lstm_preds, transformer_preds):\n",
        "        print(f'{t[:50]:<50} | {c:<10} | {l:<10} | {tr:<12}')\n"
      ],
      "metadata": {
        "id": "b6HyXwpWgzXr"
      },
      "execution_count": null,
      "outputs": []
    },
    {
      "cell_type": "code",
      "source": [
        "sample_texts = [\n",
        "    \"I'm feeling so sad and empty today.\",\n",
        "    \"I can't stop smiling, what a great day!\",\n",
        "    \"I'm scared of what might happen next.\"\n",
        "]\n",
        "unified_inference(sample_texts)\n"
      ],
      "metadata": {
        "id": "8vv15FFSg1c3"
      },
      "execution_count": null,
      "outputs": []
    }
  ]
}